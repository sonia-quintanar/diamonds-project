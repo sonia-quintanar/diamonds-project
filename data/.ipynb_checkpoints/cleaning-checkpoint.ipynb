{
 "cells": [
  {
   "cell_type": "code",
   "execution_count": 2,
   "metadata": {},
   "outputs": [],
   "source": [
    "import pandas as pd\n",
    "import os\n",
    "import sklearn\n",
    "\n",
    "import seaborn as sns\n",
    "import matplotlib.pyplot as plt"
   ]
  },
  {
   "cell_type": "code",
   "execution_count": 3,
   "metadata": {},
   "outputs": [],
   "source": [
    "df = pd.read_csv(\"train.csv\")"
   ]
  },
  {
   "cell_type": "code",
   "execution_count": 5,
   "metadata": {},
   "outputs": [
    {
     "data": {
      "text/html": [
       "<div>\n",
       "<style scoped>\n",
       "    .dataframe tbody tr th:only-of-type {\n",
       "        vertical-align: middle;\n",
       "    }\n",
       "\n",
       "    .dataframe tbody tr th {\n",
       "        vertical-align: top;\n",
       "    }\n",
       "\n",
       "    .dataframe thead th {\n",
       "        text-align: right;\n",
       "    }\n",
       "</style>\n",
       "<table border=\"1\" class=\"dataframe\">\n",
       "  <thead>\n",
       "    <tr style=\"text-align: right;\">\n",
       "      <th></th>\n",
       "      <th>id</th>\n",
       "      <th>carat</th>\n",
       "      <th>cut</th>\n",
       "      <th>color</th>\n",
       "      <th>clarity</th>\n",
       "      <th>depth</th>\n",
       "      <th>table</th>\n",
       "      <th>x</th>\n",
       "      <th>y</th>\n",
       "      <th>z</th>\n",
       "      <th>price</th>\n",
       "    </tr>\n",
       "  </thead>\n",
       "  <tbody>\n",
       "    <tr>\n",
       "      <th>0</th>\n",
       "      <td>0</td>\n",
       "      <td>0.53</td>\n",
       "      <td>Very Good</td>\n",
       "      <td>G</td>\n",
       "      <td>SI1</td>\n",
       "      <td>63.4</td>\n",
       "      <td>54.0</td>\n",
       "      <td>5.09</td>\n",
       "      <td>5.13</td>\n",
       "      <td>3.24</td>\n",
       "      <td>7.057</td>\n",
       "    </tr>\n",
       "    <tr>\n",
       "      <th>1</th>\n",
       "      <td>1</td>\n",
       "      <td>0.41</td>\n",
       "      <td>Ideal</td>\n",
       "      <td>D</td>\n",
       "      <td>SI1</td>\n",
       "      <td>63.0</td>\n",
       "      <td>56.0</td>\n",
       "      <td>4.80</td>\n",
       "      <td>4.75</td>\n",
       "      <td>3.01</td>\n",
       "      <td>6.824</td>\n",
       "    </tr>\n",
       "    <tr>\n",
       "      <th>2</th>\n",
       "      <td>2</td>\n",
       "      <td>0.32</td>\n",
       "      <td>Ideal</td>\n",
       "      <td>I</td>\n",
       "      <td>VS2</td>\n",
       "      <td>61.6</td>\n",
       "      <td>56.0</td>\n",
       "      <td>4.37</td>\n",
       "      <td>4.39</td>\n",
       "      <td>2.70</td>\n",
       "      <td>6.107</td>\n",
       "    </tr>\n",
       "    <tr>\n",
       "      <th>3</th>\n",
       "      <td>3</td>\n",
       "      <td>0.31</td>\n",
       "      <td>Ideal</td>\n",
       "      <td>H</td>\n",
       "      <td>VVS2</td>\n",
       "      <td>61.2</td>\n",
       "      <td>56.0</td>\n",
       "      <td>4.34</td>\n",
       "      <td>4.37</td>\n",
       "      <td>2.66</td>\n",
       "      <td>6.390</td>\n",
       "    </tr>\n",
       "    <tr>\n",
       "      <th>4</th>\n",
       "      <td>4</td>\n",
       "      <td>1.35</td>\n",
       "      <td>Premium</td>\n",
       "      <td>J</td>\n",
       "      <td>VS2</td>\n",
       "      <td>60.5</td>\n",
       "      <td>56.0</td>\n",
       "      <td>7.19</td>\n",
       "      <td>7.12</td>\n",
       "      <td>4.33</td>\n",
       "      <td>8.741</td>\n",
       "    </tr>\n",
       "  </tbody>\n",
       "</table>\n",
       "</div>"
      ],
      "text/plain": [
       "   id  carat        cut color clarity  depth  table     x     y     z  price\n",
       "0   0   0.53  Very Good     G     SI1   63.4   54.0  5.09  5.13  3.24  7.057\n",
       "1   1   0.41      Ideal     D     SI1   63.0   56.0  4.80  4.75  3.01  6.824\n",
       "2   2   0.32      Ideal     I     VS2   61.6   56.0  4.37  4.39  2.70  6.107\n",
       "3   3   0.31      Ideal     H    VVS2   61.2   56.0  4.34  4.37  2.66  6.390\n",
       "4   4   1.35    Premium     J     VS2   60.5   56.0  7.19  7.12  4.33  8.741"
      ]
     },
     "execution_count": 5,
     "metadata": {},
     "output_type": "execute_result"
    }
   ],
   "source": [
    "df.head()"
   ]
  },
  {
   "cell_type": "code",
   "execution_count": 6,
   "metadata": {},
   "outputs": [
    {
     "data": {
      "text/plain": [
       "(40455, 11)"
      ]
     },
     "execution_count": 6,
     "metadata": {},
     "output_type": "execute_result"
    }
   ],
   "source": [
    "df.shape"
   ]
  },
  {
   "cell_type": "code",
   "execution_count": 7,
   "metadata": {},
   "outputs": [
    {
     "data": {
      "text/plain": [
       "<AxesSubplot:xlabel='price', ylabel='Count'>"
      ]
     },
     "execution_count": 7,
     "metadata": {},
     "output_type": "execute_result"
    },
    {
     "data": {
      "image/png": "[encoded data removed]",
      "text/plain": [
       "<Figure size 432x288 with 1 Axes>"
      ]
     },
     "metadata": {
      "needs_background": "light"
     },
     "output_type": "display_data"
    }
   ],
   "source": [
    "sns.histplot(df.price)"
   ]
  },
  {
   "cell_type": "code",
   "execution_count": 9,
   "metadata": {},
   "outputs": [
    {
     "data": {
      "text/plain": [
       "array(['Very Good', 'Ideal', 'Premium', 'Good', 'Fair'], dtype=object)"
      ]
     },
     "execution_count": 9,
     "metadata": {},
     "output_type": "execute_result"
    }
   ],
   "source": [
    "df.cut.unique()"
   ]
  },
  {
   "cell_type": "code",
   "execution_count": 12,
   "metadata": {},
   "outputs": [
    {
     "data": {
      "text/plain": [
       "Ideal        16154\n",
       "Premium      10369\n",
       "Very Good     9054\n",
       "Good          3663\n",
       "Fair          1215\n",
       "Name: cut, dtype: int64"
      ]
     },
     "execution_count": 12,
     "metadata": {},
     "output_type": "execute_result"
    }
   ],
   "source": [
    "df.cut.value_counts()"
   ]
  },
  {
   "cell_type": "code",
   "execution_count": 10,
   "metadata": {},
   "outputs": [
    {
     "data": {
      "text/plain": [
       "array(['G', 'D', 'I', 'H', 'J', 'F', 'E'], dtype=object)"
      ]
     },
     "execution_count": 10,
     "metadata": {},
     "output_type": "execute_result"
    }
   ],
   "source": [
    "df.color.unique()"
   ]
  },
  {
   "cell_type": "code",
   "execution_count": 15,
   "metadata": {},
   "outputs": [
    {
     "data": {
      "text/plain": [
       "G    8477\n",
       "E    7370\n",
       "F    7143\n",
       "H    6196\n",
       "D    5113\n",
       "I    4102\n",
       "J    2054\n",
       "Name: color, dtype: int64"
      ]
     },
     "execution_count": 15,
     "metadata": {},
     "output_type": "execute_result"
    }
   ],
   "source": [
    "df.color.value_counts()"
   ]
  },
  {
   "cell_type": "code",
   "execution_count": 11,
   "metadata": {},
   "outputs": [
    {
     "data": {
      "text/plain": [
       "array(['SI1', 'VS2', 'VVS2', 'SI2', 'VVS1', 'VS1', 'I1', 'IF'],\n",
       "      dtype=object)"
      ]
     },
     "execution_count": 11,
     "metadata": {},
     "output_type": "execute_result"
    }
   ],
   "source": [
    "df.clarity.unique()"
   ]
  },
  {
   "cell_type": "code",
   "execution_count": 16,
   "metadata": {},
   "outputs": [
    {
     "data": {
      "text/plain": [
       "SI1     9867\n",
       "VS2     9243\n",
       "SI2     6806\n",
       "VS1     6108\n",
       "VVS2    3848\n",
       "VVS1    2727\n",
       "IF      1305\n",
       "I1       551\n",
       "Name: clarity, dtype: int64"
      ]
     },
     "execution_count": 16,
     "metadata": {},
     "output_type": "execute_result"
    }
   ],
   "source": [
    "df.clarity.value_counts()"
   ]
  },
  {
   "cell_type": "code",
   "execution_count": 18,
   "metadata": {},
   "outputs": [
    {
     "data": {
      "text/plain": [
       "id         0\n",
       "carat      0\n",
       "cut        0\n",
       "color      0\n",
       "clarity    0\n",
       "depth      0\n",
       "table      0\n",
       "x          0\n",
       "y          0\n",
       "z          0\n",
       "price      0\n",
       "dtype: int64"
      ]
     },
     "execution_count": 18,
     "metadata": {},
     "output_type": "execute_result"
    }
   ],
   "source": [
    "df.isna().sum()"
   ]
  },
  {
   "cell_type": "code",
   "execution_count": 19,
   "metadata": {},
   "outputs": [
    {
     "name": "stdout",
     "output_type": "stream",
     "text": [
      "id           40455\n",
      "carat        268\n",
      "cut          5\n",
      "color        7\n",
      "clarity      8\n",
      "depth        179\n",
      "table        121\n",
      "x            544\n",
      "y            538\n",
      "z            359\n",
      "price        3513\n"
     ]
    }
   ],
   "source": [
    "for colname in df.columns:\n",
    "    print(f\"{colname: <12} {df[colname].nunique()}\")"
   ]
  },
  {
   "cell_type": "code",
   "execution_count": 20,
   "metadata": {},
   "outputs": [
    {
     "data": {
      "text/html": [
       "<div>\n",
       "<style scoped>\n",
       "    .dataframe tbody tr th:only-of-type {\n",
       "        vertical-align: middle;\n",
       "    }\n",
       "\n",
       "    .dataframe tbody tr th {\n",
       "        vertical-align: top;\n",
       "    }\n",
       "\n",
       "    .dataframe thead th {\n",
       "        text-align: right;\n",
       "    }\n",
       "</style>\n",
       "<table border=\"1\" class=\"dataframe\">\n",
       "  <thead>\n",
       "    <tr style=\"text-align: right;\">\n",
       "      <th></th>\n",
       "      <th>id</th>\n",
       "      <th>carat</th>\n",
       "      <th>depth</th>\n",
       "      <th>table</th>\n",
       "      <th>x</th>\n",
       "      <th>y</th>\n",
       "      <th>z</th>\n",
       "      <th>price</th>\n",
       "    </tr>\n",
       "  </thead>\n",
       "  <tbody>\n",
       "    <tr>\n",
       "      <th>id</th>\n",
       "      <td>1.000000</td>\n",
       "      <td>-0.006186</td>\n",
       "      <td>-0.002316</td>\n",
       "      <td>-0.010840</td>\n",
       "      <td>-0.005675</td>\n",
       "      <td>-0.004038</td>\n",
       "      <td>-0.005649</td>\n",
       "      <td>-0.004040</td>\n",
       "    </tr>\n",
       "    <tr>\n",
       "      <th>carat</th>\n",
       "      <td>-0.006186</td>\n",
       "      <td>1.000000</td>\n",
       "      <td>0.025261</td>\n",
       "      <td>0.182888</td>\n",
       "      <td>0.974744</td>\n",
       "      <td>0.950639</td>\n",
       "      <td>0.948895</td>\n",
       "      <td>0.920846</td>\n",
       "    </tr>\n",
       "    <tr>\n",
       "      <th>depth</th>\n",
       "      <td>-0.002316</td>\n",
       "      <td>0.025261</td>\n",
       "      <td>1.000000</td>\n",
       "      <td>-0.298380</td>\n",
       "      <td>-0.028188</td>\n",
       "      <td>-0.032829</td>\n",
       "      <td>0.091738</td>\n",
       "      <td>-0.000533</td>\n",
       "    </tr>\n",
       "    <tr>\n",
       "      <th>table</th>\n",
       "      <td>-0.010840</td>\n",
       "      <td>0.182888</td>\n",
       "      <td>-0.298380</td>\n",
       "      <td>1.000000</td>\n",
       "      <td>0.197226</td>\n",
       "      <td>0.185480</td>\n",
       "      <td>0.150606</td>\n",
       "      <td>0.159950</td>\n",
       "    </tr>\n",
       "    <tr>\n",
       "      <th>x</th>\n",
       "      <td>-0.005675</td>\n",
       "      <td>0.974744</td>\n",
       "      <td>-0.028188</td>\n",
       "      <td>0.197226</td>\n",
       "      <td>1.000000</td>\n",
       "      <td>0.973473</td>\n",
       "      <td>0.966374</td>\n",
       "      <td>0.957934</td>\n",
       "    </tr>\n",
       "    <tr>\n",
       "      <th>y</th>\n",
       "      <td>-0.004038</td>\n",
       "      <td>0.950639</td>\n",
       "      <td>-0.032829</td>\n",
       "      <td>0.185480</td>\n",
       "      <td>0.973473</td>\n",
       "      <td>1.000000</td>\n",
       "      <td>0.946517</td>\n",
       "      <td>0.934832</td>\n",
       "    </tr>\n",
       "    <tr>\n",
       "      <th>z</th>\n",
       "      <td>-0.005649</td>\n",
       "      <td>0.948895</td>\n",
       "      <td>0.091738</td>\n",
       "      <td>0.150606</td>\n",
       "      <td>0.966374</td>\n",
       "      <td>0.946517</td>\n",
       "      <td>1.000000</td>\n",
       "      <td>0.931147</td>\n",
       "    </tr>\n",
       "    <tr>\n",
       "      <th>price</th>\n",
       "      <td>-0.004040</td>\n",
       "      <td>0.920846</td>\n",
       "      <td>-0.000533</td>\n",
       "      <td>0.159950</td>\n",
       "      <td>0.957934</td>\n",
       "      <td>0.934832</td>\n",
       "      <td>0.931147</td>\n",
       "      <td>1.000000</td>\n",
       "    </tr>\n",
       "  </tbody>\n",
       "</table>\n",
       "</div>"
      ],
      "text/plain": [
       "             id     carat     depth     table         x         y         z  \\\n",
       "id     1.000000 -0.006186 -0.002316 -0.010840 -0.005675 -0.004038 -0.005649   \n",
       "carat -0.006186  1.000000  0.025261  0.182888  0.974744  0.950639  0.948895   \n",
       "depth -0.002316  0.025261  1.000000 -0.298380 -0.028188 -0.032829  0.091738   \n",
       "table -0.010840  0.182888 -0.298380  1.000000  0.197226  0.185480  0.150606   \n",
       "x     -0.005675  0.974744 -0.028188  0.197226  1.000000  0.973473  0.966374   \n",
       "y     -0.004038  0.950639 -0.032829  0.185480  0.973473  1.000000  0.946517   \n",
       "z     -0.005649  0.948895  0.091738  0.150606  0.966374  0.946517  1.000000   \n",
       "price -0.004040  0.920846 -0.000533  0.159950  0.957934  0.934832  0.931147   \n",
       "\n",
       "          price  \n",
       "id    -0.004040  \n",
       "carat  0.920846  \n",
       "depth -0.000533  \n",
       "table  0.159950  \n",
       "x      0.957934  \n",
       "y      0.934832  \n",
       "z      0.931147  \n",
       "price  1.000000  "
      ]
     },
     "execution_count": 20,
     "metadata": {},
     "output_type": "execute_result"
    }
   ],
   "source": [
    "df.corr()"
   ]
  },
  {
   "cell_type": "code",
   "execution_count": 21,
   "metadata": {},
   "outputs": [
    {
     "data": {
      "text/plain": [
       "id      -0.004040\n",
       "depth   -0.000533\n",
       "table    0.159950\n",
       "carat    0.920846\n",
       "z        0.931147\n",
       "y        0.934832\n",
       "x        0.957934\n",
       "price    1.000000\n",
       "Name: price, dtype: float64"
      ]
     },
     "execution_count": 21,
     "metadata": {},
     "output_type": "execute_result"
    }
   ],
   "source": [
    "df.corr()[\"price\"].sort_values()"
   ]
  },
  {
   "cell_type": "code",
   "execution_count": 22,
   "metadata": {},
   "outputs": [],
   "source": [
    "from sklearn.linear_model import LinearRegression"
   ]
  },
  {
   "cell_type": "code",
   "execution_count": 23,
   "metadata": {},
   "outputs": [],
   "source": [
    "lr = LinearRegression()"
   ]
  },
  {
   "cell_type": "code",
   "execution_count": 24,
   "metadata": {},
   "outputs": [
    {
     "data": {
      "text/html": [
       "<div>\n",
       "<style scoped>\n",
       "    .dataframe tbody tr th:only-of-type {\n",
       "        vertical-align: middle;\n",
       "    }\n",
       "\n",
       "    .dataframe tbody tr th {\n",
       "        vertical-align: top;\n",
       "    }\n",
       "\n",
       "    .dataframe thead th {\n",
       "        text-align: right;\n",
       "    }\n",
       "</style>\n",
       "<table border=\"1\" class=\"dataframe\">\n",
       "  <thead>\n",
       "    <tr style=\"text-align: right;\">\n",
       "      <th></th>\n",
       "      <th>id</th>\n",
       "      <th>carat</th>\n",
       "      <th>cut</th>\n",
       "      <th>color</th>\n",
       "      <th>clarity</th>\n",
       "      <th>depth</th>\n",
       "      <th>table</th>\n",
       "      <th>x</th>\n",
       "      <th>y</th>\n",
       "      <th>z</th>\n",
       "      <th>price</th>\n",
       "    </tr>\n",
       "  </thead>\n",
       "  <tbody>\n",
       "    <tr>\n",
       "      <th>0</th>\n",
       "      <td>0</td>\n",
       "      <td>0.53</td>\n",
       "      <td>Very Good</td>\n",
       "      <td>G</td>\n",
       "      <td>SI1</td>\n",
       "      <td>63.4</td>\n",
       "      <td>54.0</td>\n",
       "      <td>5.09</td>\n",
       "      <td>5.13</td>\n",
       "      <td>3.24</td>\n",
       "      <td>7.057</td>\n",
       "    </tr>\n",
       "    <tr>\n",
       "      <th>1</th>\n",
       "      <td>1</td>\n",
       "      <td>0.41</td>\n",
       "      <td>Ideal</td>\n",
       "      <td>D</td>\n",
       "      <td>SI1</td>\n",
       "      <td>63.0</td>\n",
       "      <td>56.0</td>\n",
       "      <td>4.80</td>\n",
       "      <td>4.75</td>\n",
       "      <td>3.01</td>\n",
       "      <td>6.824</td>\n",
       "    </tr>\n",
       "    <tr>\n",
       "      <th>2</th>\n",
       "      <td>2</td>\n",
       "      <td>0.32</td>\n",
       "      <td>Ideal</td>\n",
       "      <td>I</td>\n",
       "      <td>VS2</td>\n",
       "      <td>61.6</td>\n",
       "      <td>56.0</td>\n",
       "      <td>4.37</td>\n",
       "      <td>4.39</td>\n",
       "      <td>2.70</td>\n",
       "      <td>6.107</td>\n",
       "    </tr>\n",
       "    <tr>\n",
       "      <th>3</th>\n",
       "      <td>3</td>\n",
       "      <td>0.31</td>\n",
       "      <td>Ideal</td>\n",
       "      <td>H</td>\n",
       "      <td>VVS2</td>\n",
       "      <td>61.2</td>\n",
       "      <td>56.0</td>\n",
       "      <td>4.34</td>\n",
       "      <td>4.37</td>\n",
       "      <td>2.66</td>\n",
       "      <td>6.390</td>\n",
       "    </tr>\n",
       "    <tr>\n",
       "      <th>4</th>\n",
       "      <td>4</td>\n",
       "      <td>1.35</td>\n",
       "      <td>Premium</td>\n",
       "      <td>J</td>\n",
       "      <td>VS2</td>\n",
       "      <td>60.5</td>\n",
       "      <td>56.0</td>\n",
       "      <td>7.19</td>\n",
       "      <td>7.12</td>\n",
       "      <td>4.33</td>\n",
       "      <td>8.741</td>\n",
       "    </tr>\n",
       "  </tbody>\n",
       "</table>\n",
       "</div>"
      ],
      "text/plain": [
       "   id  carat        cut color clarity  depth  table     x     y     z  price\n",
       "0   0   0.53  Very Good     G     SI1   63.4   54.0  5.09  5.13  3.24  7.057\n",
       "1   1   0.41      Ideal     D     SI1   63.0   56.0  4.80  4.75  3.01  6.824\n",
       "2   2   0.32      Ideal     I     VS2   61.6   56.0  4.37  4.39  2.70  6.107\n",
       "3   3   0.31      Ideal     H    VVS2   61.2   56.0  4.34  4.37  2.66  6.390\n",
       "4   4   1.35    Premium     J     VS2   60.5   56.0  7.19  7.12  4.33  8.741"
      ]
     },
     "execution_count": 24,
     "metadata": {},
     "output_type": "execute_result"
    }
   ],
   "source": [
    "df.head()"
   ]
  },
  {
   "cell_type": "code",
   "execution_count": 25,
   "metadata": {},
   "outputs": [],
   "source": [
    "## INVESTIGAR EN INTERNET, QUÉ VARIABLES INFLUYEN EN EL PRECIO DE LOS DIAMANTES\n",
    "# ELIMINAR ALGUNA COLUMNA NO RELEVANTE"
   ]
  },
  {
   "cell_type": "code",
   "execution_count": null,
   "metadata": {},
   "outputs": [],
   "source": []
  }
 ],
 "metadata": {
  "kernelspec": {
   "display_name": "Python 3",
   "language": "python",
   "name": "python3"
  },
  "language_info": {
   "codemirror_mode": {
    "name": "ipython",
    "version": 3
   },
   "file_extension": ".py",
   "mimetype": "text/x-python",
   "name": "python",
   "nbconvert_exporter": "python",
   "pygments_lexer": "ipython3",
   "version": "3.8.5"
  }
 },
 "nbformat": 4,
 "nbformat_minor": 4
}
